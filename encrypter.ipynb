{
 "cells": [
  {
   "cell_type": "code",
   "execution_count": 1,
   "id": "565429cc",
   "metadata": {},
   "outputs": [],
   "source": [
    "#pip install pandas openpyxl"
   ]
  },
  {
   "cell_type": "code",
   "execution_count": 2,
   "id": "53ed2f36",
   "metadata": {},
   "outputs": [],
   "source": [
    "#pip install python-docx"
   ]
  },
  {
   "cell_type": "code",
   "execution_count": 3,
   "id": "fbd895e6",
   "metadata": {},
   "outputs": [],
   "source": [
    "#!pip install faker"
   ]
  },
  {
   "cell_type": "code",
   "execution_count": 4,
   "id": "7156a4c2",
   "metadata": {},
   "outputs": [],
   "source": [
    "import os\n",
    "import PyPDF2\n",
    "import pandas as pd\n",
    "from PIL import Image\n",
    "import re\n",
    "from PyPDF2 import PdfReader\n",
    "from faker import Faker\n",
    "import pandas as pd\n",
    "from docx import Document"
   ]
  },
  {
   "cell_type": "code",
   "execution_count": 5,
   "id": "b8ed5e65",
   "metadata": {},
   "outputs": [],
   "source": [
    "name_regex = re.compile(r'(?P<name>[A-Za-z]+ [A-Za-z]+)')\n",
    "phone_regex = re.compile(r'(?P<phone>\\+?\\d{1,4}[-.\\s]?\\d{1,4}[-.\\s]?\\d{1,4}[-.\\s]?\\d{1,9})')\n",
    "email_regex = re.compile(r'(?P<email>[\\w\\.-]+@[\\w\\.-]+)')"
   ]
  },
  {
   "cell_type": "code",
   "execution_count": 6,
   "id": "3264decb",
   "metadata": {},
   "outputs": [],
   "source": [
    "def generate_dummy_data(num_records):\n",
    "    fake = Faker()\n",
    "    for _ in range(num_records):\n",
    "        name = fake.name()\n",
    "        phone = fake.phone_number()\n",
    "        email = fake.email()\n",
    "    return name, phone, email"
   ]
  },
  {
   "cell_type": "code",
   "execution_count": 7,
   "id": "b5f9b893",
   "metadata": {},
   "outputs": [],
   "source": [
    "def extract_info_from_resume(pdf_path):\n",
    "    with open(pdf_path, 'rb') as file:\n",
    "        pdf_reader = PyPDF2.PdfReader(file)\n",
    "        content = ''\n",
    "        d_name, d_phone, d_email = generate_dummy_data(1)\n",
    "        for page_num in range(len(pdf_reader.pages)):\n",
    "            page = pdf_reader.pages[page_num]\n",
    "            content += page.extract_text()\n",
    "\n",
    "        name_match = name_regex.search(content)\n",
    "        if name_match:\n",
    "            name = name_match.group('name')\n",
    "            content = content.replace(name_match.group('name'), d_name)\n",
    "        \n",
    "        phone_match = phone_regex.search(content)\n",
    "        if phone_match:\n",
    "            phone = phone_match.group('phone')\n",
    "            content = content.replace(phone_match.group('phone'), d_phone)\n",
    "        \n",
    "        email_match = email_regex.search(content)\n",
    "        if email_match:\n",
    "            email = email_match.group('email')\n",
    "            content = content.replace(email_match.group('email'), d_email)\n",
    "        \n",
    " \n",
    "        return name, phone, email,content,d_name, d_phone, d_email\n",
    "        \n",
    "    "
   ]
  },
  {
   "cell_type": "code",
   "execution_count": 8,
   "id": "84cd0ccf",
   "metadata": {},
   "outputs": [],
   "source": [
    "def main(resume_folder):\n",
    "    data = []\n",
    "\n",
    "    \n",
    "    for filename in os.listdir('giekel'):\n",
    "        if filename.endswith('.pdf'):\n",
    "            file_path = os.path.join('giekel', filename)\n",
    "            name, phone, email,content,d_name, d_phone, d_email = extract_info_from_resume(file_path)\n",
    "            data.append({'Name': name, 'Phone': phone, 'Email': email,'dummy_Name': d_name, 'dummy_Phone': d_phone, 'dummy_Email': d_email})\n",
    "    df = pd.DataFrame(data)\n",
    "    \n",
    "    return content,df\n",
    "\n",
    "if __name__ == \"__main__\":\n",
    "    resume_folder = 'giekel'\n",
    "    output_excel = \"parsed_resumes2.xlsx\"\n",
    "    x,df=main(resume_folder)\n",
    "    df.to_excel(output_excel, index=False, engine='openpyxl', encoding='latin1')\n",
    "    doc = Document()\n",
    "    doc.add_paragraph(x)\n",
    "    doc.save('sample.docx')\n",
    "    "
   ]
  }
 ],
 "metadata": {
  "kernelspec": {
   "display_name": "Python 3 (ipykernel)",
   "language": "python",
   "name": "python3"
  },
  "language_info": {
   "codemirror_mode": {
    "name": "ipython",
    "version": 3
   },
   "file_extension": ".py",
   "mimetype": "text/x-python",
   "name": "python",
   "nbconvert_exporter": "python",
   "pygments_lexer": "ipython3",
   "version": "3.10.9"
  }
 },
 "nbformat": 4,
 "nbformat_minor": 5
}
